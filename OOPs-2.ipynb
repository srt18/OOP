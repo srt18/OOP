{
 "cells": [
  {
   "cell_type": "markdown",
   "id": "5d7359d3-f910-4843-a696-0540bee50e87",
   "metadata": {},
   "source": [
    "# OOP (Object Oriented Programming) "
   ]
  },
  {
   "cell_type": "markdown",
   "id": "c94ce0a0-af78-4779-8887-c2e8eacf5507",
   "metadata": {},
   "source": [
    "### Write OOP classes to handle the following scenarios:\r\n",
    "\r\n",
    "- A user can create and view 2D coordinates\r\n",
    "- A user can find out the distance between 2 coordinates\r\n",
    "- A user can find find the distance of a coordinate from origin\r\n",
    "- A user can check if a point lies on a given line\r\n",
    "- A user can find the distance between a given 2D point and a give\n",
    "\n",
    "- Two line intersect or not :  line\r\n"
   ]
  },
  {
   "cell_type": "code",
   "execution_count": 88,
   "id": "3bd79370-0454-45a8-918e-a154022d7fae",
   "metadata": {},
   "outputs": [],
   "source": [
    "class point:\n",
    "\n",
    "    def __init__(self,x,y):\n",
    "        self.x_cod = x\n",
    "        self.y_cod = y\n",
    "\n",
    "    def __str__(self):\n",
    "        return '<{},{}>'.format(self.x_cod,self.y_cod)\n",
    "\n",
    "    def eucliden_distance(self,other):\n",
    "        return ((self.x_cod - other.x_cod)**2 + (self.y_cod - other.y_cod)**2)**0.5\n",
    "\n",
    "    def distance_form_origin(self):\n",
    "        return self.eucliden_distance(Point(0,0)) #class object inside the class\n",
    "\n",
    "class Line:\n",
    "    def __init__(self,A,B,C):\n",
    "        self.A = A\n",
    "        self.B = B\n",
    "        self.C = C\n",
    "\n",
    "    def __str__(self):\n",
    "        return '{}x + {}y + {}'.format(self.A,self.B,self.C)\n",
    "\n",
    "    def collinear_point(line,point):\n",
    "        if line.A*point.x_cod + line.B*point.y_cod + line.C == 0:\n",
    "            return \"Lies on the line\"\n",
    "        else:\n",
    "            return \"Doesn't lies on the line\"\n",
    "\n",
    "    def shortest_distance(line,point):\n",
    "        return round((abs(line.A*point.x_cod + line.B*point.y_cod + line.C)/(line.A**2 + line.B**2)**0.5),2)\n",
    "\n",
    "    def line_interset(line,other):\n",
    "        return ((line.B*other.C - other.B*line.C)/(line.A*other.B - other.A*line.B),\n",
    "                (line.C*other.A - other.C*line.A)/(line.A*other.B - other.A*line.B))"
   ]
  },
  {
   "cell_type": "code",
   "execution_count": 89,
   "id": "68939cd5-7461-4c29-8551-5dd5ee7e1d50",
   "metadata": {},
   "outputs": [],
   "source": [
    "# a1x + b1y + c1 = 0 and a2x + b2y + c2 = 0 is \n",
    "# given by the formula: (x, y) = ((b1c2 - b2c1) / (a1b2 - a2b1), (c1a2 - c2a1) / (a1b2 - a2b1))"
   ]
  },
  {
   "cell_type": "code",
   "execution_count": 90,
   "id": "eafcf0b2-f092-4b71-9a7c-5062ea703ade",
   "metadata": {},
   "outputs": [
    {
     "name": "stdout",
     "output_type": "stream",
     "text": [
      "<0,0>\n"
     ]
    }
   ],
   "source": [
    "p1 = point(0,0)\n",
    "print(p1)"
   ]
  },
  {
   "cell_type": "code",
   "execution_count": 91,
   "id": "9628c441-0f79-40ff-9520-b32a341ae37c",
   "metadata": {},
   "outputs": [
    {
     "name": "stdout",
     "output_type": "stream",
     "text": [
      "<1,2>\n"
     ]
    }
   ],
   "source": [
    "p2 = point(1,2)\n",
    "print(p2)"
   ]
  },
  {
   "cell_type": "code",
   "execution_count": 92,
   "id": "0d8a0f54-83a5-4631-b230-d99449581950",
   "metadata": {},
   "outputs": [
    {
     "data": {
      "text/plain": [
       "2.23606797749979"
      ]
     },
     "execution_count": 92,
     "metadata": {},
     "output_type": "execute_result"
    }
   ],
   "source": [
    "p1.eucliden_distance(p2)"
   ]
  },
  {
   "cell_type": "code",
   "execution_count": 93,
   "id": "1b45439a-dc4e-43d5-848c-536f512c7be1",
   "metadata": {},
   "outputs": [
    {
     "data": {
      "text/plain": [
       "2.23606797749979"
      ]
     },
     "execution_count": 93,
     "metadata": {},
     "output_type": "execute_result"
    }
   ],
   "source": [
    "p2.distance_form_origin()"
   ]
  },
  {
   "cell_type": "code",
   "execution_count": 94,
   "id": "94d1aa48-74d0-4386-b340-f9e7efdccd1c",
   "metadata": {},
   "outputs": [
    {
     "name": "stdout",
     "output_type": "stream",
     "text": [
      "1x + 1y + -2\n",
      "<1,1>\n"
     ]
    }
   ],
   "source": [
    "l1 = Line(1,1,-2)\n",
    "p3 = point(1,1)\n",
    "print(l1)\n",
    "print(p3)"
   ]
  },
  {
   "cell_type": "code",
   "execution_count": 95,
   "id": "ae523d22-c3e3-4f5f-bd29-0d9264974008",
   "metadata": {},
   "outputs": [
    {
     "data": {
      "text/plain": [
       "'Lies on the line'"
      ]
     },
     "execution_count": 95,
     "metadata": {},
     "output_type": "execute_result"
    }
   ],
   "source": [
    "l1.collinear_point(p3)"
   ]
  },
  {
   "cell_type": "code",
   "execution_count": 96,
   "id": "ea2915d1-1dcf-46ea-a298-0fefd007f22a",
   "metadata": {},
   "outputs": [
    {
     "data": {
      "text/plain": [
       "1.41"
      ]
     },
     "execution_count": 96,
     "metadata": {},
     "output_type": "execute_result"
    }
   ],
   "source": [
    "l1.shortest_distance(p1)"
   ]
  },
  {
   "cell_type": "code",
   "execution_count": 101,
   "id": "82af6980-5120-46f8-86eb-64becf4f648e",
   "metadata": {},
   "outputs": [
    {
     "name": "stdout",
     "output_type": "stream",
     "text": [
      "2x + 6y + -5\n"
     ]
    }
   ],
   "source": [
    "l2 = Line(2,6,-5)\n",
    "print(l2)"
   ]
  },
  {
   "cell_type": "code",
   "execution_count": 100,
   "id": "922befc6-73fc-4ae9-aa5c-660923a8d909",
   "metadata": {},
   "outputs": [
    {
     "data": {
      "text/plain": [
       "(1.75, 0.25)"
      ]
     },
     "execution_count": 100,
     "metadata": {},
     "output_type": "execute_result"
    }
   ],
   "source": [
    "l1.line_interset(l2)"
   ]
  },
  {
   "cell_type": "markdown",
   "id": "c994c0ac-e96c-4ad9-9531-11838870fd28",
   "metadata": {},
   "source": [
    "## How objects access attributes"
   ]
  },
  {
   "cell_type": "code",
   "execution_count": 102,
   "id": "fa634c24-972a-4a6b-b274-43a1aad7da7e",
   "metadata": {},
   "outputs": [],
   "source": [
    "class Person:\n",
    "    #constructor\n",
    "    def __init__(self,name_input,country_input):\n",
    "        self.name = name_input\n",
    "        self.country = country_input\n",
    "\n",
    "    def greet(self):\n",
    "        if self.country == 'india':\n",
    "            print('Namasete',self.name)\n",
    "        else:\n",
    "            print('Hello',self.name)\n",
    "        "
   ]
  },
  {
   "cell_type": "code",
   "execution_count": 105,
   "id": "d6b25c76-78dc-48b7-9a80-fccf1ebfb43c",
   "metadata": {},
   "outputs": [],
   "source": [
    "#how to access attributes\n",
    "p = Person('somu','india')"
   ]
  },
  {
   "cell_type": "code",
   "execution_count": 106,
   "id": "d0eafe7c-585e-41fd-9215-4b69146f72c6",
   "metadata": {},
   "outputs": [
    {
     "data": {
      "text/plain": [
       "'somu'"
      ]
     },
     "execution_count": 106,
     "metadata": {},
     "output_type": "execute_result"
    }
   ],
   "source": [
    "p.name"
   ]
  },
  {
   "cell_type": "code",
   "execution_count": 107,
   "id": "225de26a-19f9-48c8-885e-52c0a39f2616",
   "metadata": {},
   "outputs": [
    {
     "data": {
      "text/plain": [
       "'india'"
      ]
     },
     "execution_count": 107,
     "metadata": {},
     "output_type": "execute_result"
    }
   ],
   "source": [
    "p.country"
   ]
  },
  {
   "cell_type": "code",
   "execution_count": 108,
   "id": "b39e85a7-dedb-4ac8-b9db-ea53edbd0d35",
   "metadata": {},
   "outputs": [
    {
     "name": "stdout",
     "output_type": "stream",
     "text": [
      "Namasete somu\n"
     ]
    }
   ],
   "source": [
    "#How to access methods\n",
    "p.greet()"
   ]
  },
  {
   "cell_type": "code",
   "execution_count": 109,
   "id": "148058c0-c1c0-447a-967c-70069a5d2db3",
   "metadata": {},
   "outputs": [
    {
     "ename": "AttributeError",
     "evalue": "'Person' object has no attribute 'gender'",
     "output_type": "error",
     "traceback": [
      "\u001b[1;31m---------------------------------------------------------------------------\u001b[0m",
      "\u001b[1;31mAttributeError\u001b[0m                            Traceback (most recent call last)",
      "Cell \u001b[1;32mIn[109], line 2\u001b[0m\n\u001b[0;32m      1\u001b[0m \u001b[38;5;66;03m# what if i try to access non - existent attributes\u001b[39;00m\n\u001b[1;32m----> 2\u001b[0m \u001b[43mp\u001b[49m\u001b[38;5;241;43m.\u001b[39;49m\u001b[43mgender\u001b[49m()\n",
      "\u001b[1;31mAttributeError\u001b[0m: 'Person' object has no attribute 'gender'"
     ]
    }
   ],
   "source": [
    "# what if i try to access non - existent attributes\n",
    "p.gender()"
   ]
  },
  {
   "cell_type": "markdown",
   "id": "7bfa664c-3dbd-4fd6-a3a8-fb8d8dc1fa83",
   "metadata": {},
   "source": [
    "### Attribute creation from outside of the class"
   ]
  },
  {
   "cell_type": "code",
   "execution_count": 112,
   "id": "156c89a3-c939-45a5-97ec-d3f43cd91565",
   "metadata": {},
   "outputs": [],
   "source": [
    "p.gender = 'male'"
   ]
  },
  {
   "cell_type": "code",
   "execution_count": 113,
   "id": "bbeace7e-0b66-4871-b291-349cad4fceef",
   "metadata": {},
   "outputs": [
    {
     "data": {
      "text/plain": [
       "'male'"
      ]
     },
     "execution_count": 113,
     "metadata": {},
     "output_type": "execute_result"
    }
   ],
   "source": [
    "p.gender"
   ]
  },
  {
   "cell_type": "markdown",
   "id": "8ede7f40-3820-49ae-86a3-9a42d4bef7d5",
   "metadata": {},
   "source": [
    "### Reference Variables\n",
    "\n",
    "- Reference variables hold the objects\n",
    "- We can create objects without reference variable as well\n",
    "- An object can have multiple reference variables\n",
    "- Assigning a new reference variable to an existing object does not create a new object"
   ]
  },
  {
   "cell_type": "code",
   "execution_count": 130,
   "id": "97245e41-7054-4b13-834a-c08480e64fa9",
   "metadata": {},
   "outputs": [
    {
     "data": {
      "text/plain": [
       "<__main__.Person at 0x17e7ef1e790>"
      ]
     },
     "execution_count": 130,
     "metadata": {},
     "output_type": "execute_result"
    }
   ],
   "source": [
    "# object without a reference\n",
    "class Person:\n",
    "\n",
    "  def __init__(self):\n",
    "    self.name = 'nitish'\n",
    "    self.gender = 'male'\n",
    "\n",
    "Person()\n"
   ]
  },
  {
   "cell_type": "code",
   "execution_count": 131,
   "id": "59dc8536-55f6-49cd-92f7-c29a82c9be15",
   "metadata": {},
   "outputs": [],
   "source": [
    "p = Person()\n",
    "# p is the reference variable\n",
    "p = q"
   ]
  },
  {
   "cell_type": "code",
   "execution_count": 135,
   "id": "bacf02cf-3f53-4406-808f-94c03f5ba89f",
   "metadata": {},
   "outputs": [
    {
     "name": "stdout",
     "output_type": "stream",
     "text": [
      "ankit\n",
      "ankit\n"
     ]
    }
   ],
   "source": [
    "#change attritube value with the help of 2nd object \n",
    "print(p.name)\n",
    "print(q.name)"
   ]
  },
  {
   "cell_type": "code",
   "execution_count": 136,
   "id": "cb5fe440-a6b6-4c24-b9a1-8b51c8de96a9",
   "metadata": {},
   "outputs": [],
   "source": [
    "q.name = 'ankit'"
   ]
  },
  {
   "cell_type": "code",
   "execution_count": 137,
   "id": "1b2689eb-56cd-4ba9-a0fb-0ffda718be70",
   "metadata": {},
   "outputs": [
    {
     "name": "stdout",
     "output_type": "stream",
     "text": [
      "ankit\n",
      "ankit\n"
     ]
    }
   ],
   "source": [
    "print(p.name)\n",
    "print(q.name)"
   ]
  },
  {
   "cell_type": "markdown",
   "id": "6af069da-d537-4d00-aab1-0433e5251925",
   "metadata": {},
   "source": [
    "## Pass by reference\n",
    " - All objects are mutable by default like list,set,dict"
   ]
  },
  {
   "cell_type": "code",
   "execution_count": 148,
   "id": "4f38bbc5-2818-44a3-ba03-6aefffb8718e",
   "metadata": {},
   "outputs": [
    {
     "name": "stdout",
     "output_type": "stream",
     "text": [
      "1642805834080\n",
      "Hi my name is  nitish and I am a  male\n",
      "ankit\n",
      "1642807106528\n"
     ]
    }
   ],
   "source": [
    "class Person:\n",
    "\n",
    "  def __init__(self,name,gender):\n",
    "    self.name = name\n",
    "    self.gender = gender\n",
    "\n",
    "#outside the class --> function\n",
    "def greet(person):\n",
    "    print(id(person))\n",
    "    print('Hi my name is ',person.name,'and I am a ',person.gender)\n",
    "    p1 = Person('ankit','male')\n",
    "    return p1\n",
    "\n",
    "p = Person('nitish','male')\n",
    "p1 = greet(p)\n",
    "print(x.name)\n",
    "print(id(p1))"
   ]
  },
  {
   "cell_type": "markdown",
   "id": "116ca3b8-064c-429c-882c-41cf4f5316d5",
   "metadata": {},
   "source": [
    "## Object's mutability "
   ]
  },
  {
   "cell_type": "code",
   "execution_count": 149,
   "id": "2b13f32d-0dff-462d-93ed-fdb7e41805a3",
   "metadata": {},
   "outputs": [
    {
     "name": "stdout",
     "output_type": "stream",
     "text": [
      "1642807821696\n",
      "1642807821696\n"
     ]
    }
   ],
   "source": [
    "class Person:\n",
    "\n",
    "  def __init__(self,name,gender):\n",
    "    self.name = name\n",
    "    self.gender = gender\n",
    "\n",
    "# outside the class -> function\n",
    "def greet(person):\n",
    "  person.name = 'ankit'\n",
    "  return person\n",
    "\n",
    "p = Person('nitish','male')\n",
    "print(id(p))\n",
    "p1 = greet(p)\n",
    "print(id(p1))"
   ]
  },
  {
   "cell_type": "markdown",
   "id": "08efdf9c-9c22-442e-ae9e-f58932c4fe15",
   "metadata": {},
   "source": [
    "## Encapsulation\n",
    " - Why we need encapsulation?\n",
    "   1. Data Security: Private attributes can't be accessed directly\n",
    "   2. Validation: Control how data is modified through setters\n",
    "   3. Abstraction: Hide complex internal implementation\n",
    "   4. Maintainability: Changes to internal code don't affect external usage\n",
    "   5. Debugging: Easier to track where data changes occur\n",
    "   \n",
    "### Access Levels in Python:\n",
    "- Public (attribute): Accessible everywhere\n",
    "- Protected (_attribute): Convention for internal use, still accessible\n",
    "- Private (__attribute): Name mangling makes it harder to access externally\n",
    "\n",
    "Encapsulation ensures that the internal state of objects remains consistent and secure while providing a clean, controlled interface for interaction."
   ]
  },
  {
   "cell_type": "code",
   "execution_count": 153,
   "id": "3fccdf4a-7583-411a-a881-a60c0e709f78",
   "metadata": {},
   "outputs": [
    {
     "data": {
      "text/plain": [
       "<__main__.Person at 0x17e7ee674f0>"
      ]
     },
     "execution_count": 153,
     "metadata": {},
     "output_type": "execute_result"
    }
   ],
   "source": [
    "#instance var -> python tutor -- Special varibale \n",
    "# Value differ in the same function according to the instance\n",
    "class Person:\n",
    "\n",
    "  def __init__(self,name_input,country_input):\n",
    "    self.name = name_input\n",
    "    self.country = country_input\n",
    "\n",
    "Person('nitish','india')\n",
    "Person('steve','australia')"
   ]
  },
  {
   "cell_type": "code",
   "execution_count": 1,
   "id": "91a4c174-50a6-4bb6-b6c2-620217689254",
   "metadata": {},
   "outputs": [],
   "source": [
    "class ATM:\n",
    "    '''\n",
    "    Builting a ATM machine and there funcitionality \n",
    "    '''\n",
    "    #constructor \n",
    "        # Special function -- Have a super power \"It automactically execute - it call everytime\"\n",
    "    def __init__(self):\n",
    "        self.pin = ''\n",
    "        self.__balance = 0\n",
    "        self.menu()\n",
    "        \n",
    "    def menu(self):\n",
    "        user_input = input(\"\"\"\n",
    "        HI How can I help you?\n",
    "        1. Press 1 to create pin\n",
    "        2. Press 2 to change pin\n",
    "        3. Press 3 to check balance\n",
    "        4. Press 4 to withdraw\n",
    "        5. Anything else to exit\n",
    "        \"\"\")\n",
    "        if user_input == '1':\n",
    "            #create pin\n",
    "            self.create_pin()\n",
    "        elif user_input == '2':\n",
    "            #change pin \n",
    "            self.change_pin()\n",
    "        elif user_input == '3':\n",
    "            #check balance\n",
    "            self.check_balance()\n",
    "        elif user_input == '4':\n",
    "            #withdraw\n",
    "            self.withdraw()\n",
    "        else:\n",
    "            exit()    \n",
    "\n",
    "    def create_pin(self):\n",
    "        user_pin = input(\"Enter your pin\")\n",
    "        self.pin = user_pin\n",
    "\n",
    "        user_balance = int(input(\"Enter your balance\"))\n",
    "        self.__balance = user_balance\n",
    "\n",
    "        print(\"Pin created successfully\")\n",
    "        self.menu()\n",
    "    \n",
    "    def change_pin(self):\n",
    "        old_pin = input(\"Enter old pin\")\n",
    "        if old_pin == self.pin:\n",
    "            #let change the pin\n",
    "            new_pin = input(\"Enter new pin\")\n",
    "            self.pin = new_pin.pin()\n",
    "            print(\"Pin change successfully\")\n",
    "            self.menu()\n",
    "        else:\n",
    "            print(\"Not valid pin\")    \n",
    "            self.menu()\n",
    "        change_pin = input(\"\")\n",
    "\n",
    "    def check_balance(self):\n",
    "        user_pin = input(\"Enter your pin\")\n",
    "        if user_pin == self.pin:\n",
    "            print(\"Your balance is\",self.__balance)\n",
    "            self.menu()\n",
    "        else:\n",
    "            print(\"Your balance is empty\")\n",
    "            self.menu()\n",
    "\n",
    "    def withdraw(self):\n",
    "        user_input = input(\"Enter the pin\")\n",
    "        if user_input == self.pin:\n",
    "            #allow to withdraw\n",
    "            amount = int(input(\"Enter the amount\"))\n",
    "            if amount <= self.__balance:\n",
    "                self.__balance = self.__balance - amount\n",
    "                print(\"Withdrawl successful balance is\",self.__balance)\n",
    "            else:\n",
    "                print(\"Dont have require balance\")\n",
    "        else:    \n",
    "            print(\"Your pin is incoorect\")\n",
    "        self.menu()\n"
   ]
  },
  {
   "cell_type": "code",
   "execution_count": 2,
   "id": "fd39533a-5756-4a26-8669-7841fb321efc",
   "metadata": {},
   "outputs": [
    {
     "name": "stdin",
     "output_type": "stream",
     "text": [
      "\n",
      "        HI How can I help you?\n",
      "        1. Press 1 to create pin\n",
      "        2. Press 2 to change pin\n",
      "        3. Press 3 to check balance\n",
      "        4. Press 4 to withdraw\n",
      "        5. Anything else to exit\n",
      "         5\n"
     ]
    }
   ],
   "source": [
    "obj = ATM()"
   ]
  },
  {
   "cell_type": "code",
   "execution_count": 1,
   "id": "cc16420f-563e-41e9-94cf-178b52d145e9",
   "metadata": {},
   "outputs": [
    {
     "ename": "NameError",
     "evalue": "name 'obj' is not defined",
     "output_type": "error",
     "traceback": [
      "\u001b[1;31m---------------------------------------------------------------------------\u001b[0m",
      "\u001b[1;31mNameError\u001b[0m                                 Traceback (most recent call last)",
      "Cell \u001b[1;32mIn[1], line 1\u001b[0m\n\u001b[1;32m----> 1\u001b[0m \u001b[43mobj\u001b[49m\u001b[38;5;241m.\u001b[39m__balance()\n",
      "\u001b[1;31mNameError\u001b[0m: name 'obj' is not defined"
     ]
    }
   ],
   "source": [
    "obj.__balance()"
   ]
  },
  {
   "cell_type": "code",
   "execution_count": null,
   "id": "3c7276db-2428-4f34-b32c-738b40cfcb4c",
   "metadata": {},
   "outputs": [],
   "source": []
  }
 ],
 "metadata": {
  "kernelspec": {
   "display_name": "Python 3 (ipykernel)",
   "language": "python",
   "name": "python3"
  },
  "language_info": {
   "codemirror_mode": {
    "name": "ipython",
    "version": 3
   },
   "file_extension": ".py",
   "mimetype": "text/x-python",
   "name": "python",
   "nbconvert_exporter": "python",
   "pygments_lexer": "ipython3",
   "version": "3.8.20"
  }
 },
 "nbformat": 4,
 "nbformat_minor": 5
}
